{
 "cells": [
  {
   "cell_type": "markdown",
   "id": "4129e8da",
   "metadata": {},
   "source": [
    "# Wix Test - BI Developer  - Daniel Levkovitz"
   ]
  },
  {
   "cell_type": "markdown",
   "id": "b5fccfb2",
   "metadata": {},
   "source": [
    "### Import Packages"
   ]
  },
  {
   "cell_type": "code",
   "execution_count": 1,
   "id": "d8ccbfd2",
   "metadata": {},
   "outputs": [],
   "source": [
    "import mysql.connector\n",
    "import pandas as pd\n",
    "import numpy as np\n",
    "import requests\n",
    "import sqlalchemy\n",
    "import json\n",
    "import csv"
   ]
  },
  {
   "cell_type": "markdown",
   "id": "9bc7bb58",
   "metadata": {},
   "source": [
    "### Import Credentials for MySQL"
   ]
  },
  {
   "cell_type": "markdown",
   "id": "ef1f5319",
   "metadata": {},
   "source": [
    "I stored the connection details in a separate file as described in the test."
   ]
  },
  {
   "cell_type": "code",
   "execution_count": 2,
   "id": "77985534",
   "metadata": {},
   "outputs": [],
   "source": [
    "credentials = open(\"C:\\\\Users\\\\daniel_l\\\\Documents\\\\credentials_mysql.json\", encoding=\"ISO-8859-1\")"
   ]
  },
  {
   "cell_type": "code",
   "execution_count": 3,
   "id": "d4d7ceda",
   "metadata": {},
   "outputs": [],
   "source": [
    "credentials = json.load(credentials)"
   ]
  },
  {
   "cell_type": "markdown",
   "id": "9dee2b5a",
   "metadata": {},
   "source": [
    "### Log In to the Database"
   ]
  },
  {
   "cell_type": "code",
   "execution_count": 4,
   "id": "970df757",
   "metadata": {},
   "outputs": [],
   "source": [
    "connect_url = sqlalchemy.engine.URL.create(drivername='mysql+mysqlconnector',username=credentials['User'],port=credentials['Port'],password=credentials['Password'],host=credentials['Host'],database=credentials['Database'])"
   ]
  },
  {
   "cell_type": "code",
   "execution_count": 5,
   "id": "d5ac2d01",
   "metadata": {
    "scrolled": true
   },
   "outputs": [],
   "source": [
    "engine = sqlalchemy.create_engine(connect_url)"
   ]
  },
  {
   "cell_type": "markdown",
   "id": "327c4323",
   "metadata": {},
   "source": [
    "### Import Data from https://randomuser.me/"
   ]
  },
  {
   "cell_type": "code",
   "execution_count": 7,
   "id": "fea6010b",
   "metadata": {},
   "outputs": [],
   "source": [
    "results = requests.get(\"https://randomuser.me/api/?format=JSON&results=4500&noinfo\")"
   ]
  },
  {
   "cell_type": "code",
   "execution_count": 8,
   "id": "976d0096",
   "metadata": {},
   "outputs": [],
   "source": [
    "results = results.json()['results']"
   ]
  },
  {
   "cell_type": "markdown",
   "id": "3f2f3710",
   "metadata": {},
   "source": [
    "### Requirement 1 - Create dataset of 4500 users"
   ]
  },
  {
   "cell_type": "code",
   "execution_count": 9,
   "id": "5144c589",
   "metadata": {},
   "outputs": [],
   "source": [
    "df = pd.DataFrame(pd.json_normalize(results))"
   ]
  },
  {
   "cell_type": "markdown",
   "id": "c6a7b1b0",
   "metadata": {},
   "source": [
    "### Requirement 2 - Separate the dataset into 2 gender datasets (male and female)"
   ]
  },
  {
   "cell_type": "code",
   "execution_count": 10,
   "id": "db9a4770",
   "metadata": {},
   "outputs": [],
   "source": [
    "df_male = df[df['gender']=='male']\n",
    "df_female = df[df['gender']=='female']"
   ]
  },
  {
   "cell_type": "markdown",
   "id": "bc0caa04",
   "metadata": {},
   "source": [
    "#### Store each one of the datasets in a separated MySQL table"
   ]
  },
  {
   "cell_type": "code",
   "execution_count": 11,
   "id": "3c042592",
   "metadata": {},
   "outputs": [
    {
     "data": {
      "text/plain": [
       "2253"
      ]
     },
     "execution_count": 11,
     "metadata": {},
     "output_type": "execute_result"
    }
   ],
   "source": [
    "df_male.to_sql('DANIEL_LEVKOVITZ_test_male', engine, index=False)"
   ]
  },
  {
   "cell_type": "code",
   "execution_count": 12,
   "id": "d645899f",
   "metadata": {},
   "outputs": [
    {
     "data": {
      "text/plain": [
       "2247"
      ]
     },
     "execution_count": 12,
     "metadata": {},
     "output_type": "execute_result"
    }
   ],
   "source": [
    "df_female.to_sql('DANIEL_LEVKOVITZ_test_female', engine, index=False)"
   ]
  },
  {
   "cell_type": "markdown",
   "id": "f50bfdb6",
   "metadata": {},
   "source": [
    "### Requirement 3 - Split the dataset into 10 subsets by dob.age column in groups of 10"
   ]
  },
  {
   "cell_type": "code",
   "execution_count": 13,
   "id": "33ec1e74",
   "metadata": {},
   "outputs": [],
   "source": [
    "def age_band(num):\n",
    "    for i in range(1, 11):\n",
    "        if num < 10*i :  return (i-1) * 10"
   ]
  },
  {
   "cell_type": "code",
   "execution_count": 14,
   "id": "e1dc722f",
   "metadata": {},
   "outputs": [],
   "source": [
    "df_age_dicts={}\n",
    "for i in range(1,11):\n",
    "    df_age_dicts[\"df_{0}\".format(i*10)] = df.loc[df['dob.age'].apply(age_band)==i*10]"
   ]
  },
  {
   "cell_type": "markdown",
   "id": "c85a2407",
   "metadata": {},
   "source": [
    "### Requirement 4 - Store each one of the subsets in MySQL"
   ]
  },
  {
   "cell_type": "code",
   "execution_count": 15,
   "id": "3802986c",
   "metadata": {},
   "outputs": [],
   "source": [
    "for i in range(1,11):\n",
    "    df_age_dicts[\"df_{0}\".format(i*10)].to_sql('DANIEL_LEVKOVITZ_test_{0}'.format(i), engine, index=False)"
   ]
  },
  {
   "cell_type": "markdown",
   "id": "fb7abe1e",
   "metadata": {},
   "source": [
    "### Requirement 5 - Write a SQL query that will return the top 20 last registered males and females from each one of the gender tables you created in 2 and save it in MySQL"
   ]
  },
  {
   "cell_type": "code",
   "execution_count": 20,
   "id": "f5078406",
   "metadata": {},
   "outputs": [],
   "source": [
    "top_registered = engine.execute(\"SELECT * FROM interview.DANIEL_LEVKOVITZ_test_male ORDER BY `registered.date` DESC LIMIT 20\").fetchall() + engine.execute(\"SELECT * FROM interview.DANIEL_LEVKOVITZ_test_female ORDER BY `registered.date` DESC LIMIT 20\").fetchall() "
   ]
  },
  {
   "cell_type": "code",
   "execution_count": 21,
   "id": "13a1df0e",
   "metadata": {},
   "outputs": [],
   "source": [
    "df_top_registered = pd.DataFrame(columns=df.columns, data=top_registered)"
   ]
  },
  {
   "cell_type": "code",
   "execution_count": 22,
   "id": "2b6a9e38",
   "metadata": {},
   "outputs": [
    {
     "data": {
      "text/plain": [
       "40"
      ]
     },
     "execution_count": 22,
     "metadata": {},
     "output_type": "execute_result"
    }
   ],
   "source": [
    "df_top_registered.to_sql('DANIEL_LEVKOVITZ_test_20', engine, index=False)"
   ]
  },
  {
   "cell_type": "markdown",
   "id": "e5388fe4",
   "metadata": {},
   "source": [
    "### Requirement 6 - Create a dataset that combines data from DANIEL_LEVKOVITZ__test_20 and data from the DANIEL_LEVKOVITZ_test_5 table. \n",
    "### Make sure each row is presented only once, and there is no multiplication of data"
   ]
  },
  {
   "cell_type": "code",
   "execution_count": 23,
   "id": "134e991f",
   "metadata": {},
   "outputs": [],
   "source": [
    "combined_data_q6 = engine.execute(\"SELECT  * FROM DANIEL_LEVKOVITZ_test_20 UNION SELECT * FROM DANIEL_LEVKOVITZ_test_5\").fetchall()"
   ]
  },
  {
   "cell_type": "code",
   "execution_count": 24,
   "id": "c67f1cce",
   "metadata": {},
   "outputs": [],
   "source": [
    "df_combined_data_q6 = pd.DataFrame(columns = df.columns, data = combined_data_q6)"
   ]
  },
  {
   "cell_type": "markdown",
   "id": "a8c964d3",
   "metadata": {},
   "source": [
    "#### Create JSON from the mentioned dataset and store it locally as first.json"
   ]
  },
  {
   "cell_type": "code",
   "execution_count": 25,
   "id": "a0a88631",
   "metadata": {},
   "outputs": [],
   "source": [
    "df_combined_data_q6.to_json('first.json', indent=True,orient = 'index')"
   ]
  },
  {
   "cell_type": "markdown",
   "id": "80c7882d",
   "metadata": {},
   "source": [
    "### Requirement 7 - Create a dataset that combines data from DANIEL_LEVKOVITZ__test_20 and data from the DANIEL_LEVKOVITZ_test_5 table.\n",
    "### In case the same rows are presented in 2 datasets both rows are supposed to be presented."
   ]
  },
  {
   "cell_type": "code",
   "execution_count": 36,
   "id": "1e351c7b",
   "metadata": {},
   "outputs": [],
   "source": [
    "combined_data_q7 = engine.execute(\"SELECT  * FROM DANIEL_LEVKOVITZ_test_20 UNION ALL SELECT * FROM DANIEL_LEVKOVITZ_test_2\").fetchall()"
   ]
  },
  {
   "cell_type": "code",
   "execution_count": 37,
   "id": "d27036d3",
   "metadata": {},
   "outputs": [],
   "source": [
    "df_combined_data_q7 = pd.DataFrame(columns = df.columns, data = combined_data_q7)"
   ]
  },
  {
   "cell_type": "markdown",
   "id": "1ff69dfd",
   "metadata": {},
   "source": [
    "#### Create json from the mentioned dataset and store it locally as second.json"
   ]
  },
  {
   "cell_type": "code",
   "execution_count": 39,
   "id": "a040a956",
   "metadata": {},
   "outputs": [],
   "source": [
    "df_combined_data_q7.to_json('second.json', indent=True,orient = 'index')"
   ]
  }
 ],
 "metadata": {
  "kernelspec": {
   "display_name": "Python 3 (ipykernel)",
   "language": "python",
   "name": "python3"
  },
  "language_info": {
   "codemirror_mode": {
    "name": "ipython",
    "version": 3
   },
   "file_extension": ".py",
   "mimetype": "text/x-python",
   "name": "python",
   "nbconvert_exporter": "python",
   "pygments_lexer": "ipython3",
   "version": "3.9.7"
  }
 },
 "nbformat": 4,
 "nbformat_minor": 5
}
