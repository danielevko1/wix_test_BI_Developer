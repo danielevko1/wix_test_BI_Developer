{
 "cells": [
  {
   "cell_type": "markdown",
   "id": "9def3397",
   "metadata": {},
   "source": [
    "# Wix Test - BI Developer  - Daniel Levkovitz"
   ]
  },
  {
   "cell_type": "markdown",
   "id": "22a117ae",
   "metadata": {},
   "source": [
    "### Import Packages"
   ]
  },
  {
   "cell_type": "code",
   "execution_count": 1,
   "id": "4fb8f450",
   "metadata": {},
   "outputs": [],
   "source": [
    "import mysql.connector\n",
    "import pandas as pd\n",
    "import numpy as np\n",
    "import requests\n",
    "import sqlalchemy\n",
    "import json"
   ]
  },
  {
   "cell_type": "markdown",
   "id": "c1bb8c4d",
   "metadata": {},
   "source": [
    "### Import Credentials for MySQL"
   ]
  },
  {
   "cell_type": "markdown",
   "id": "18e93796",
   "metadata": {},
   "source": [
    "I stored the connection details in a separate file as described in the test."
   ]
  },
  {
   "cell_type": "code",
   "execution_count": 2,
   "id": "fa75d200",
   "metadata": {},
   "outputs": [],
   "source": [
    "credentials = open(\"C:\\\\Users\\\\daniel_l\\\\Documents\\\\credentials_mysql.json\", encoding=\"ISO-8859-1\")"
   ]
  },
  {
   "cell_type": "code",
   "execution_count": 3,
   "id": "85d158f5",
   "metadata": {},
   "outputs": [],
   "source": [
    "credentials = json.load(credentials)"
   ]
  },
  {
   "cell_type": "markdown",
   "id": "8d5a6da1",
   "metadata": {},
   "source": [
    "### Log In to the Database"
   ]
  },
  {
   "cell_type": "code",
   "execution_count": 40,
   "id": "4c724378",
   "metadata": {},
   "outputs": [],
   "source": [
    "connect_url = sqlalchemy.engine.URL.create(drivername='mysql+mysqlconnector',username=credentials['User'],port=credentials['Port'],password=credentials['Password'],host=credentials['Host'],database=credentials['Database'])"
   ]
  },
  {
   "cell_type": "code",
   "execution_count": 41,
   "id": "4797d284",
   "metadata": {
    "scrolled": true
   },
   "outputs": [],
   "source": [
    "engine = sqlalchemy.create_engine(connect_url)"
   ]
  },
  {
   "cell_type": "markdown",
   "id": "d08517dc",
   "metadata": {},
   "source": [
    "### Import Data from https://randomuser.me/"
   ]
  },
  {
   "cell_type": "code",
   "execution_count": 7,
   "id": "21d41ee9",
   "metadata": {},
   "outputs": [],
   "source": [
    "results = requests.get(\"https://randomuser.me/api/?format=JSON&results=4500&noinfo\")"
   ]
  },
  {
   "cell_type": "code",
   "execution_count": 8,
   "id": "128bf315",
   "metadata": {},
   "outputs": [],
   "source": [
    "results = results.json()['results']"
   ]
  },
  {
   "cell_type": "markdown",
   "id": "bad67725",
   "metadata": {},
   "source": [
    "### Requirement 1 - Create dataset of 4500 users"
   ]
  },
  {
   "cell_type": "code",
   "execution_count": 9,
   "id": "ca79db86",
   "metadata": {},
   "outputs": [],
   "source": [
    "df = pd.DataFrame(pd.json_normalize(results))"
   ]
  },
  {
   "cell_type": "markdown",
   "id": "c287db71",
   "metadata": {},
   "source": [
    "### Requirement 2 - Separate the dataset into 2 gender datasets (male and female)"
   ]
  },
  {
   "cell_type": "code",
   "execution_count": 10,
   "id": "1f0b0788",
   "metadata": {},
   "outputs": [],
   "source": [
    "df_male = df[df['gender']=='male']\n",
    "df_female = df[df['gender']=='female']"
   ]
  },
  {
   "cell_type": "markdown",
   "id": "d30f143f",
   "metadata": {},
   "source": [
    "#### Store each one of the datasets in a separated MySQL table"
   ]
  },
  {
   "cell_type": "code",
   "execution_count": 11,
   "id": "9174d401",
   "metadata": {},
   "outputs": [
    {
     "data": {
      "text/plain": [
       "2253"
      ]
     },
     "execution_count": 11,
     "metadata": {},
     "output_type": "execute_result"
    }
   ],
   "source": [
    "df_male.to_sql('DANIEL_LEVKOVITZ_test_male', engine, index=False)"
   ]
  },
  {
   "cell_type": "code",
   "execution_count": 12,
   "id": "c3b02670",
   "metadata": {},
   "outputs": [
    {
     "data": {
      "text/plain": [
       "2247"
      ]
     },
     "execution_count": 12,
     "metadata": {},
     "output_type": "execute_result"
    }
   ],
   "source": [
    "df_female.to_sql('DANIEL_LEVKOVITZ_test_female', engine, index=False)"
   ]
  },
  {
   "cell_type": "markdown",
   "id": "2ac35ac5",
   "metadata": {},
   "source": [
    "### Requirement 3 - Split the dataset into 10 subsets by dob.age column in groups of 10"
   ]
  },
  {
   "cell_type": "code",
   "execution_count": 13,
   "id": "3b80421f",
   "metadata": {},
   "outputs": [],
   "source": [
    "def age_band(num):\n",
    "    for i in range(1, 11):\n",
    "        if num < 10*i :  return (i-1) * 10"
   ]
  },
  {
   "cell_type": "code",
   "execution_count": 14,
   "id": "12d7ed05",
   "metadata": {},
   "outputs": [],
   "source": [
    "df_age_dicts={}\n",
    "for i in range(1,11):\n",
    "    df_age_dicts[\"df_{0}\".format(i*10)] = df.loc[df['dob.age'].apply(age_band)==i*10]"
   ]
  },
  {
   "cell_type": "markdown",
   "id": "5ff3ccb0",
   "metadata": {},
   "source": [
    "### Requirement 4 - Store each one of the subsets in MySQL"
   ]
  },
  {
   "cell_type": "code",
   "execution_count": 15,
   "id": "41b0c256",
   "metadata": {},
   "outputs": [],
   "source": [
    "for i in range(1,11):\n",
    "    df_age_dicts[\"df_{0}\".format(i*10)].to_sql('DANIEL_LEVKOVITZ_test_{0}'.format(i), engine, index=False)"
   ]
  },
  {
   "cell_type": "markdown",
   "id": "e9329be7",
   "metadata": {},
   "source": [
    "### Requirement 5 - Write a SQL query that will return the top 20 last registered males and females from each one of the gender tables you created in 2 and save it in MySQL"
   ]
  },
  {
   "cell_type": "code",
   "execution_count": 20,
   "id": "1457cabc",
   "metadata": {},
   "outputs": [],
   "source": [
    "top_registered = engine.execute(\"SELECT * FROM interview.DANIEL_LEVKOVITZ_test_male ORDER BY `registered.date` DESC LIMIT 20\").fetchall() + engine.execute(\"SELECT * FROM interview.DANIEL_LEVKOVITZ_test_female ORDER BY `registered.date` DESC LIMIT 20\").fetchall() "
   ]
  },
  {
   "cell_type": "code",
   "execution_count": 21,
   "id": "aa1d25a0",
   "metadata": {},
   "outputs": [],
   "source": [
    "df_top_registered = pd.DataFrame(columns=df.columns, data=top_registered)"
   ]
  },
  {
   "cell_type": "code",
   "execution_count": 22,
   "id": "f31b749d",
   "metadata": {},
   "outputs": [
    {
     "data": {
      "text/plain": [
       "40"
      ]
     },
     "execution_count": 22,
     "metadata": {},
     "output_type": "execute_result"
    }
   ],
   "source": [
    "df_top_registered.to_sql('DANIEL_LEVKOVITZ_test_20', engine, index=False)"
   ]
  },
  {
   "cell_type": "markdown",
   "id": "175b3e7a",
   "metadata": {},
   "source": [
    "### Requirement 6 - Create a dataset that combines data from DANIEL_LEVKOVITZ__test_20 and data from the DANIEL_LEVKOVITZ_test_5 table. \n",
    "### Make sure each row is presented only once, and there is no multiplication of data"
   ]
  },
  {
   "cell_type": "code",
   "execution_count": 42,
   "id": "18c77c93",
   "metadata": {},
   "outputs": [],
   "source": [
    "combined_data_q6 = engine.execute(\"SELECT  * FROM DANIEL_LEVKOVITZ_test_20 UNION SELECT * FROM DANIEL_LEVKOVITZ_test_5\").fetchall()"
   ]
  },
  {
   "cell_type": "code",
   "execution_count": 24,
   "id": "31ec3465",
   "metadata": {},
   "outputs": [],
   "source": [
    "df_combined_data_q6 = pd.DataFrame(columns = df.columns, data = combined_data_q6)"
   ]
  },
  {
   "cell_type": "markdown",
   "id": "95aff46e",
   "metadata": {},
   "source": [
    "#### Create JSON from the mentioned dataset and store it locally as first.json"
   ]
  },
  {
   "cell_type": "code",
   "execution_count": 25,
   "id": "7c4449a8",
   "metadata": {},
   "outputs": [],
   "source": [
    "df_combined_data_q6.to_json('first.json', indent=True,orient = 'index')"
   ]
  },
  {
   "cell_type": "markdown",
   "id": "233b3b29",
   "metadata": {},
   "source": [
    "### Requirement 7 - Create a dataset that combines data from DANIEL_LEVKOVITZ__test_20 and data from the DANIEL_LEVKOVITZ_test_5 table.\n",
    "### In case the same rows are presented in 2 datasets both rows are supposed to be presented."
   ]
  },
  {
   "cell_type": "code",
   "execution_count": 36,
   "id": "49ab34d5",
   "metadata": {},
   "outputs": [],
   "source": [
    "combined_data_q7 = engine.execute(\"SELECT  * FROM DANIEL_LEVKOVITZ_test_20 UNION ALL SELECT * FROM DANIEL_LEVKOVITZ_test_2\").fetchall()"
   ]
  },
  {
   "cell_type": "code",
   "execution_count": 37,
   "id": "fc775e5c",
   "metadata": {},
   "outputs": [],
   "source": [
    "df_combined_data_q7 = pd.DataFrame(columns = df.columns, data = combined_data_q7)"
   ]
  },
  {
   "cell_type": "markdown",
   "id": "e0809c67",
   "metadata": {},
   "source": [
    "#### Create json from the mentioned dataset and store it locally as second.json"
   ]
  },
  {
   "cell_type": "code",
   "execution_count": 39,
   "id": "f05c4891",
   "metadata": {},
   "outputs": [],
   "source": [
    "df_combined_data_q7.to_json('second.json', indent=True,orient = 'index')"
   ]
  }
 ],
 "metadata": {
  "kernelspec": {
   "display_name": "Python 3 (ipykernel)",
   "language": "python",
   "name": "python3"
  },
  "language_info": {
   "codemirror_mode": {
    "name": "ipython",
    "version": 3
   },
   "file_extension": ".py",
   "mimetype": "text/x-python",
   "name": "python",
   "nbconvert_exporter": "python",
   "pygments_lexer": "ipython3",
   "version": "3.9.7"
  }
 },
 "nbformat": 4,
 "nbformat_minor": 5
}
